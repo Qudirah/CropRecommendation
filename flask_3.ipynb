{
 "cells": [
  {
   "cell_type": "code",
   "execution_count": null,
   "id": "71afa821",
   "metadata": {},
   "outputs": [
    {
     "name": "stdout",
     "output_type": "stream",
     "text": [
      " * Serving Flask app \"__main__\" (lazy loading)\n",
      " * Environment: production\n",
      "   WARNING: This is a development server. Do not use it in a production deployment.\n",
      "   Use a production WSGI server instead.\n",
      " * Debug mode: on\n"
     ]
    },
    {
     "name": "stderr",
     "output_type": "stream",
     "text": [
      " * Running on http://127.0.0.1:8080/ (Press CTRL+C to quit)\n",
      "127.0.0.1 - - [15/Jan/2022 12:37:35] \"\u001b[37mGET / HTTP/1.1\u001b[0m\" 200 -\n",
      "127.0.0.1 - - [15/Jan/2022 12:37:36] \"\u001b[33mGET /favicon.ico HTTP/1.1\u001b[0m\" 404 -\n",
      "127.0.0.1 - - [15/Jan/2022 12:38:05] \"\u001b[37mPOST /predict HTTP/1.1\u001b[0m\" 200 -\n"
     ]
    }
   ],
   "source": [
    "from flask import Flask, render_template, request\n",
    "import pandas as pd\n",
    "import pickle\n",
    "app=Flask(__name__,template_folder=r'C:\\Users\\Alimi\\template') #starting a flask app\n",
    "model=pickle.load(open('DECISION_TREE_MODEL.pkl', 'rb')) #opening the model\n",
    "\n",
    "@app.route(\"/\",methods=[\"GET\",\"POST\"])\n",
    "def home():\n",
    "    return render_template('home.html')#returns the html code\n",
    "@app.route(\"/predict\", methods=['POST']) #links the predict part of html and still runs the predict function\n",
    "def predict():\n",
    "    if request.method=='POST':\n",
    "        rainfall=float(request.form[\"rainfall\"])\n",
    "        temperature=float(request.form[\"temperature\"])\n",
    "        ph=float(request.form[\"ph\"])\n",
    "        humidity=float(request.form[\"humidity\"])\n",
    "        N=float(request.form[\"N\"])\n",
    "        P=float(request.form[\"P\"])\n",
    "        K=float(request.form[\"K\"])\n",
    "        input_cols=[[N,P,K,temperature,humidity,ph,rainfall]]\n",
    "        prediction=model.predict(input_cols)\n",
    "        return render_template(\"home.html\", prediction_text='I recommend you plant ' + prediction + ' this season')\n",
    "if __name__ == \"__main__\":\n",
    "    app.run(debug=True,port=8080,use_reloader=False)\n",
    "    app.config['TEMPLATES_AUTO_RELOAD']=True\n",
    "    app.jinja_env.auto_reload=True"
   ]
  },
  {
   "cell_type": "code",
   "execution_count": null,
   "id": "a3c18b69",
   "metadata": {},
   "outputs": [],
   "source": []
  },
  {
   "cell_type": "code",
   "execution_count": null,
   "id": "9cc504f4",
   "metadata": {},
   "outputs": [],
   "source": []
  }
 ],
 "metadata": {
  "kernelspec": {
   "display_name": "Python 3",
   "language": "python",
   "name": "python3"
  },
  "language_info": {
   "codemirror_mode": {
    "name": "ipython",
    "version": 3
   },
   "file_extension": ".py",
   "mimetype": "text/x-python",
   "name": "python",
   "nbconvert_exporter": "python",
   "pygments_lexer": "ipython3",
   "version": "3.8.8"
  }
 },
 "nbformat": 4,
 "nbformat_minor": 5
}
