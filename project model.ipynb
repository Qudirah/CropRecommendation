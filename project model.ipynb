{
 "cells": [
  {
   "cell_type": "code",
   "execution_count": null,
   "id": "77afcb3e",
   "metadata": {},
   "outputs": [],
   "source": [
    "import pandas as pd\n",
    "import numpy as np\n",
    "from sklearn.tree import DecisionTreeClassifier\n",
    "from sklearn.metrics import classification_report\n",
    "from sklearn import metrics\n",
    "from sklearn.model_selection import cross_val_score\n",
    "import pickle\n",
    "from sklearn.model_selection import train_test_split as tts\n",
    "\n",
    "### Loading data and preprocessing\n",
    "\n",
    "data=pd.read_csv(r'C:\\Users\\Alimi\\Downloads\\Crop_recommendation.csv')\n",
    "df=pd.DataFrame(data)\n",
    "df.isna().sum() #check for missing values\n",
    "df['label'].unique()\n",
    "print(df['label'])\n",
    "#print(df.head())\n",
    "\n",
    "### Training the Datasets\n",
    "\n",
    "X=df.drop('label',axis=1)\n",
    "Y=df['label']\n",
    "p=X_train, X_test, Y_train, Y_test = tts(X, Y, test_size = 0.1,random_state=5)\n",
    "acc = [] #accuracy\n",
    "Model = DecisionTreeClassifier(criterion=\"entropy\",random_state=2,max_depth=5)\n",
    "Model.fit(X_train,Y_train)\n",
    "\n",
    "### Testing The Datasets\n",
    "\n",
    "predicted_values = Model.predict(X_test)\n",
    "x = metrics.accuracy_score(Y_test, predicted_values)\n",
    "acc.append(x)                         #adding x to the accuracy\n",
    "\n",
    "### Output\n",
    "\n",
    "print(\"DecisionTrees's Accuracy is: \", x*100)\n",
    "print(classification_report(Y_test,predicted_values))\n",
    "print (Y.unique())"
   ]
  },
  {
   "cell_type": "code",
   "execution_count": null,
   "id": "6c73cd39",
   "metadata": {},
   "outputs": [],
   "source": [
    "### Saving the Model\n",
    "\n",
    "filename='DECISION_TREE_MODEL.pkl'\n",
    "pickle.dump(Model, open(filename, 'wb'))\n",
    "\n",
    "### Retrieving the Model\n",
    "loaded_model=pickle.load(open(filename,'rb'))\n",
    "result=loaded_model.score(X_test,Y_test)\n",
    "print(loaded_model)\n",
    "print(result)"
   ]
  },
  {
   "cell_type": "markdown",
   "id": "f9d94981",
   "metadata": {},
   "source": [
    "score = cross_val_score(DecisionTree, X, Y,cv=5)\n",
    "score"
   ]
  },
  {
   "cell_type": "code",
   "execution_count": null,
   "id": "56b0c1d4",
   "metadata": {},
   "outputs": [],
   "source": []
  },
  {
   "cell_type": "code",
   "execution_count": null,
   "id": "c56be6a1",
   "metadata": {},
   "outputs": [],
   "source": []
  }
 ],
 "metadata": {
  "kernelspec": {
   "display_name": "Python 3",
   "language": "python",
   "name": "python3"
  },
  "language_info": {
   "codemirror_mode": {
    "name": "ipython",
    "version": 3
   },
   "file_extension": ".py",
   "mimetype": "text/x-python",
   "name": "python",
   "nbconvert_exporter": "python",
   "pygments_lexer": "ipython3",
   "version": "3.8.8"
  }
 },
 "nbformat": 4,
 "nbformat_minor": 5
}
